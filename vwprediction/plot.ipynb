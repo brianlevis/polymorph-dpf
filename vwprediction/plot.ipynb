{
 "cells": [
  {
   "cell_type": "code",
   "execution_count": 8,
   "metadata": {},
   "outputs": [
    {
     "data": {
      "image/png": "[encoded data removed]",
      "text/plain": [
       "<matplotlib.figure.Figure at 0x112b76518>"
      ]
     },
     "metadata": {},
     "output_type": "display_data"
    }
   ],
   "source": [
    "import matplotlib.pyplot as plt\n",
    "plt.plot([0.2, 0.4, 0.6, 0.8, 1.0, 1.2, 1.4, 1.6, \n",
    "          1.8, 2.0, 2.2, 2.4, 2.6, 2.8, 3.0,], \n",
    "         [rev * 2 for rev in [1550.699777277699, 1977.7217894764135, 2271.927557151744,\n",
    "                              2805.9917005306156, 3242.8591780007882, 3805.7272375866364, \n",
    "                              4222.667557334289, 4616.58244284023, 5147.310444659366, \n",
    "                              5498.191616032986, 5944.635458983656, 6426.942459724163, \n",
    "                              6729.216421430379, 7201.479184037185, 7606.118960598261]], 'ro')\n",
    "\n",
    "plt.xlabel('Multiplier Value')\n",
    "plt.ylabel('Revenue ($)')\n",
    "\n",
    "plt.show()\n",
    "#plt.axis([0, 3.2, 0, 20000])"
   ]
  },
  {
   "cell_type": "code",
   "execution_count": null,
   "metadata": {
    "collapsed": true
   },
   "outputs": [],
   "source": []
  }
 ],
 "metadata": {
  "kernelspec": {
   "display_name": "Python 3",
   "language": "python",
   "name": "python3"
  },
  "language_info": {
   "codemirror_mode": {
    "name": "ipython",
    "version": 3
   },
   "file_extension": ".py",
   "mimetype": "text/x-python",
   "name": "python",
   "nbconvert_exporter": "python",
   "pygments_lexer": "ipython3",
   "version": "3.6.2"
  }
 },
 "nbformat": 4,
 "nbformat_minor": 2
}
