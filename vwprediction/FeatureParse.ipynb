{
 "cells": [
  {
   "cell_type": "code",
   "execution_count": 24,
   "metadata": {},
   "outputs": [],
   "source": [
    "import json\n",
    "with open('part-00000', 'r') as f:\n",
    "    lines = f.readlines()\n",
    "lines = [x.strip() for x in lines] "
   ]
  },
  {
   "cell_type": "code",
   "execution_count": 26,
   "metadata": {},
   "outputs": [],
   "source": [
    "soldbids = []\n",
    "\n",
    "str = \"bid_resp_cnt\"\n",
    "\n",
    "for d in lines:\n",
    "    line_dict = json.loads(d)\n",
    "    if \"bid_resp_cnt\" in line_dict:\n",
    "        if int(line_dict[\"bid_resp_cnt\"]) > 0:\n",
    "            soldbids.append(line_dict)"
   ]
  },
  {
   "cell_type": "code",
   "execution_count": 27,
   "metadata": {
    "collapsed": true
   },
   "outputs": [],
   "source": [
    "# read thru all the data entries\n",
    "with open(\"Output.txt\", \"w\") as text_file:\n",
    "    for i in soldbids:\n",
    "        print(\"{0} | siteId:{1} campaignId:{2} zoneId:{3}\".format(i[\"bid_price\"], i[\"site_id\"], i[\"campaign_id\"], i[\"zone_id\"]), file=text_file)"
   ]
  },
  {
   "cell_type": "code",
   "execution_count": null,
   "metadata": {
    "collapsed": true
   },
   "outputs": [],
   "source": []
  }
 ],
 "metadata": {
  "kernelspec": {
   "display_name": "Python 3",
   "language": "python",
   "name": "python3"
  },
  "language_info": {
   "codemirror_mode": {
    "name": "ipython",
    "version": 3
   },
   "file_extension": ".py",
   "mimetype": "text/x-python",
   "name": "python",
   "nbconvert_exporter": "python",
   "pygments_lexer": "ipython3",
   "version": "3.6.2"
  }
 },
 "nbformat": 4,
 "nbformat_minor": 2
}
