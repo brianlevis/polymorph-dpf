{
 "cells": [
  {
   "cell_type": "code",
   "execution_count": 1,
   "metadata": {},
   "outputs": [],
   "source": [
    "from gametheory import Average, AverageBidderID, AverageSingleID"
   ]
  },
  {
   "cell_type": "code",
   "execution_count": 4,
   "metadata": {},
   "outputs": [],
   "source": [
    "test = Average(100, 0.5, limit=1)"
   ]
  },
  {
   "cell_type": "code",
   "execution_count": 5,
   "metadata": {},
   "outputs": [
    {
     "name": "stdout",
     "output_type": "stream",
     "text": [
      "11_00_part-00000.gz\n",
      "Total Revenue: 90.50260217943156\n",
      "Auction Count: 178524\n",
      "Auction Count (non-null): 107283\n",
      "Price Floor Engaged (non-null): 13.32%\n",
      "Price Floor Too High (non-null): 86.27%\n",
      "Average Revenue: 0.0005069492179170955\n",
      "Average Revenue (not-null): 0.0008435875411708431\n",
      "Average Bid Count: 0.9090654477829312\n",
      "Average Bid Count (non-null): 1.5127280184185752\n",
      "Average Bid Amount: 0.003309208108709101\n",
      "Average Bid Amount (non-null): 0.0055066792352859596\n",
      "Time taken: 0.43 seconds\n"
     ]
    }
   ],
   "source": [
    "test.run_simulation()"
   ]
  },
  {
   "cell_type": "code",
   "execution_count": 6,
   "metadata": {},
   "outputs": [],
   "source": [
    "testBidderID = AverageBidderID(100, 0.5, limit=1)"
   ]
  },
  {
   "cell_type": "code",
   "execution_count": 7,
   "metadata": {},
   "outputs": [
    {
     "name": "stdout",
     "output_type": "stream",
     "text": [
      "11_00_part-00000.gz\n",
      "Total Revenue: 56.5254697111977\n",
      "Auction Count: 178524\n",
      "Auction Count (non-null): 107283\n",
      "Price Floor Engaged (non-null): 24.80%\n",
      "Price Floor Too High (non-null): 73.98%\n",
      "Average Revenue: 0.0003166267264412499\n",
      "Average Revenue (not-null): 0.0005268818891268673\n",
      "Average Bid Count: 0.9090654477829312\n",
      "Average Bid Count (non-null): 1.5127280184185752\n",
      "Average Bid Amount: 0.003309208108709101\n",
      "Average Bid Amount (non-null): 0.0055066792352859596\n",
      "Time taken: 1.58 seconds\n"
     ]
    }
   ],
   "source": [
    "testBidderID.run_simulation()"
   ]
  },
  {
   "cell_type": "code",
   "execution_count": 8,
   "metadata": {},
   "outputs": [],
   "source": [
    "testSingleID = AverageSingleID(100, 0.5, \"site_id\", limit=1)"
   ]
  },
  {
   "cell_type": "code",
   "execution_count": 9,
   "metadata": {},
   "outputs": [
    {
     "name": "stdout",
     "output_type": "stream",
     "text": [
      "11_00_part-00000.gz\n",
      "Total Revenue: 80.20596467641913\n",
      "Auction Count: 178524\n",
      "Auction Count (non-null): 107283\n",
      "Price Floor Engaged (non-null): 26.34%\n",
      "Price Floor Too High (non-null): 70.02%\n",
      "Average Revenue: 0.0004492727290247761\n",
      "Average Revenue (not-null): 0.0007476111282907742\n",
      "Average Bid Count: 0.9090654477829312\n",
      "Average Bid Count (non-null): 1.5127280184185752\n",
      "Average Bid Amount: 0.003309208108709101\n",
      "Average Bid Amount (non-null): 0.0055066792352859596\n",
      "Time taken: 0.43 seconds\n"
     ]
    }
   ],
   "source": [
    "testSingleID.run_simulation()"
   ]
  },
  {
   "cell_type": "code",
   "execution_count": null,
   "metadata": {
    "collapsed": true
   },
   "outputs": [],
   "source": []
  }
 ],
 "metadata": {
  "kernelspec": {
   "display_name": "Python 3",
   "language": "python",
   "name": "python3"
  },
  "language_info": {
   "codemirror_mode": {
    "name": "ipython",
    "version": 3
   },
   "file_extension": ".py",
   "mimetype": "text/x-python",
   "name": "python",
   "nbconvert_exporter": "python",
   "pygments_lexer": "ipython3",
   "version": "3.6.1"
  }
 },
 "nbformat": 4,
 "nbformat_minor": 2
}
