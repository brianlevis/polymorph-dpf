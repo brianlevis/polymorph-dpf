{
 "cells": [
  {
   "cell_type": "code",
   "execution_count": 1,
   "metadata": {
    "collapsed": true
   },
   "outputs": [],
   "source": [
    "import gametheory"
   ]
  },
  {
   "cell_type": "code",
   "execution_count": 2,
   "metadata": {
    "collapsed": true
   },
   "outputs": [],
   "source": [
    "test = gametheory.Average(100, 0.5, limit=1)"
   ]
  },
  {
   "cell_type": "code",
   "execution_count": 3,
   "metadata": {
    "collapsed": true
   },
   "outputs": [
    {
     "name": "stdout",
     "output_type": "stream",
     "text": [
      "11_00_part-00000.gz\n",
      "Total Revenue: 6.565567986536499\n",
      "Auction Count: 44492\n",
      "Auction Count (non-null): 26712\n",
      "Price Floor Engaged Count: 11502\n",
      "Price Floor Too High Count: 12979\n",
      "Average Revenue: 0.00014757069938946079\n",
      "Average Revenue (not-null): 0.0002457909548718366\n",
      "Average Bid Count: 0.9086127843207767\n",
      "Average Bid Count (non-null): 1.513402216232405\n",
      "Average Bid Amount: 0.003338317054132489\n",
      "Average Bid Amount (non-null): 0.005560362472763653\n"
     ]
    }
   ],
   "source": [
    "test.run_simulation()"
   ]
  },
  {
   "cell_type": "code",
   "execution_count": 4,
   "metadata": {
    "collapsed": true
   },
   "outputs": [],
   "source": [
    "testBidderID = gametheory.AverageBidderID(100, 0.5, limit=1)"
   ]
  },
  {
   "cell_type": "code",
   "execution_count": 5,
   "metadata": {},
   "outputs": [
    {
     "name": "stdout",
     "output_type": "stream",
     "text": [
      "11_00_part-00000.gz\n",
      "Total Revenue: 23.65573306735594\n",
      "Auction Count: 44492\n",
      "Auction Count (non-null): 26712\n",
      "Price Floor Engaged Count: 3867\n",
      "Price Floor Too High Count: 22702\n",
      "Average Revenue: 0.0005316970413646792\n",
      "Average Revenue (not-null): 0.0008855844963819984\n",
      "Average Bid Count: 0.9086127843207767\n",
      "Average Bid Count (non-null): 1.513402216232405\n",
      "Average Bid Amount: 0.003338317054132489\n",
      "Average Bid Amount (non-null): 0.005560362472763653\n"
     ]
    }
   ],
   "source": [
    "testBidderID.run_simulation(100, 0.5)"
   ]
  },
  {
   "cell_type": "code",
   "execution_count": 6,
   "metadata": {
    "collapsed": true
   },
   "outputs": [],
   "source": [
    "testSingleID = gametheory.AverageSingleID(100, 0.5, \"site_id\", limit=1)"
   ]
  },
  {
   "cell_type": "code",
   "execution_count": 7,
   "metadata": {},
   "outputs": [
    {
     "name": "stdout",
     "output_type": "stream",
     "text": [
      "11_00_part-00000.gz\n",
      "Total Revenue: 18.679018653215525\n",
      "Auction Count: 44492\n",
      "Auction Count (non-null): 26712\n",
      "Price Floor Engaged Count: 10216\n",
      "Price Floor Too High Count: 14505\n",
      "Average Revenue: 0.00041983813924648865\n",
      "Average Revenue (not-null): 0.000699274432959551\n",
      "Average Bid Count: 0.9086127843207767\n",
      "Average Bid Count (non-null): 1.513402216232405\n",
      "Average Bid Amount: 0.003338317054132489\n",
      "Average Bid Amount (non-null): 0.005560362472763653\n"
     ]
    }
   ],
   "source": [
    "# testSingleID.run_simulation()"
   ]
  },
  {
   "cell_type": "code",
   "execution_count": 2,
   "metadata": {
    "collapsed": true
   },
   "outputs": [],
   "source": [
    "newsingle = gametheory.AverageSingleID(500, 0.5, 0.3, \"site_id\", limit=1)"
   ]
  },
  {
   "cell_type": "code",
   "execution_count": 4,
   "metadata": {},
   "outputs": [
    {
     "name": "stdout",
     "output_type": "stream",
     "text": [
      "11_00_part-00000.gz\n",
      "Total Revenue: 354.92018623478697\n",
      "Auction Count: 357048\n",
      "Auction Count (non-null): 214566\n",
      "Price Floor Engaged (non-null): 37.93%\n",
      "Price Floor Too High (non-null): 57.78%\n",
      "Average Revenue: 0.0009940405386244622\n",
      "Average Revenue (not-null): 0.0016541305996047228\n",
      "Average Bid Count: 0.9090654477829312\n",
      "Average Bid Count (non-null): 1.5127280184185752\n",
      "Average Bid Amount: 0.003309208108709405\n",
      "Average Bid Amount (non-null): 0.005506679235286464\n",
      "Time taken: 1.84 seconds\n"
     ]
    }
   ],
   "source": [
    "newsingle.run_simulation()"
   ]
  },
  {
   "cell_type": "code",
   "execution_count": null,
   "metadata": {
    "collapsed": true
   },
   "outputs": [],
   "source": []
  }
 ],
 "metadata": {
  "kernelspec": {
   "display_name": "Python 3",
   "language": "python",
   "name": "python3"
  },
  "language_info": {
   "codemirror_mode": {
    "name": "ipython",
    "version": 3
   },
   "file_extension": ".py",
   "mimetype": "text/x-python",
   "name": "python",
   "nbconvert_exporter": "python",
   "pygments_lexer": "ipython3",
   "version": "3.6.1"
  }
 },
 "nbformat": 4,
 "nbformat_minor": 2
}
